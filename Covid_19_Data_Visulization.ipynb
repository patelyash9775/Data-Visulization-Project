{
  "nbformat": 4,
  "nbformat_minor": 0,
  "metadata": {
    "colab": {
      "name": "Covid-19 Data Visulization.ipynb",
      "provenance": [],
      "collapsed_sections": [],
      "include_colab_link": true
    },
    "kernelspec": {
      "name": "python3",
      "display_name": "Python 3"
    },
    "language_info": {
      "name": "python"
    }
  },
  "cells": [
    {
      "cell_type": "markdown",
      "metadata": {
        "id": "view-in-github",
        "colab_type": "text"
      },
      "source": [
        "<a href=\"https://colab.research.google.com/github/patelyash9775/Data-Visulization-Project/blob/main/Covid_19_Data_Visulization.ipynb\" target=\"_parent\"><img src=\"https://colab.research.google.com/assets/colab-badge.svg\" alt=\"Open In Colab\"/></a>"
      ]
    },
    {
      "cell_type": "markdown",
      "metadata": {
        "id": "uYlZYt-iZKTS"
      },
      "source": [
        "# **DATA VISULIZATION OF COVID-19 DATA**\n",
        "\n",
        "\n",
        "*   **TASKS:**\n",
        "\n",
        "1.  **total cases in different continent using bar chart**\n",
        "2.  **comparision of total vaccination using pie chart**\n",
        "3.  **variation in total cases month wise using line chart**\n",
        "\n",
        "\n",
        "*  **BY:**\n",
        "\n",
        "1.  **Yash Patel**\n",
        "2.  **Sonu Soni**\n",
        "3.  **Pritesh Patel**\n",
        "\n",
        "\n",
        "\n",
        "\n",
        "\n",
        "\n",
        "\n",
        "\n"
      ]
    },
    {
      "cell_type": "markdown",
      "metadata": {
        "id": "o-jdQqEbbykx"
      },
      "source": [
        "________________________________________________________________________________"
      ]
    },
    {
      "cell_type": "markdown",
      "metadata": {
        "id": "_DihevjcTJLg"
      },
      "source": [
        "**IMPORTING REQUIRED LIBRARIES**"
      ]
    },
    {
      "cell_type": "code",
      "metadata": {
        "id": "0P1d2i5U1buu"
      },
      "source": [
        "import pandas as pd\n",
        "import matplotlib.pyplot as plt\n",
        "import numpy as np"
      ],
      "execution_count": null,
      "outputs": []
    },
    {
      "cell_type": "markdown",
      "metadata": {
        "id": "XGcwTKvGTYmC"
      },
      "source": [
        "**READ CSV FILE OF COVID DATA**"
      ]
    },
    {
      "cell_type": "code",
      "metadata": {
        "id": "IufGlWPo4V-x",
        "colab": {
          "base_uri": "https://localhost:8080/",
          "height": 609
        },
        "outputId": "1a7c152e-a134-4d76-b7c3-96042e021998"
      },
      "source": [
        "covid=pd.read_csv('/content/owid-covid-data.csv')\n",
        "covid"
      ],
      "execution_count": null,
      "outputs": [
        {
          "output_type": "execute_result",
          "data": {
            "text/html": [
              "<div>\n",
              "<style scoped>\n",
              "    .dataframe tbody tr th:only-of-type {\n",
              "        vertical-align: middle;\n",
              "    }\n",
              "\n",
              "    .dataframe tbody tr th {\n",
              "        vertical-align: top;\n",
              "    }\n",
              "\n",
              "    .dataframe thead th {\n",
              "        text-align: right;\n",
              "    }\n",
              "</style>\n",
              "<table border=\"1\" class=\"dataframe\">\n",
              "  <thead>\n",
              "    <tr style=\"text-align: right;\">\n",
              "      <th></th>\n",
              "      <th>iso_code</th>\n",
              "      <th>continent</th>\n",
              "      <th>location</th>\n",
              "      <th>date</th>\n",
              "      <th>total_cases</th>\n",
              "      <th>new_cases</th>\n",
              "      <th>new_cases_smoothed</th>\n",
              "      <th>total_deaths</th>\n",
              "      <th>new_deaths</th>\n",
              "      <th>new_deaths_smoothed</th>\n",
              "      <th>total_cases_per_million</th>\n",
              "      <th>new_cases_per_million</th>\n",
              "      <th>new_cases_smoothed_per_million</th>\n",
              "      <th>total_deaths_per_million</th>\n",
              "      <th>new_deaths_per_million</th>\n",
              "      <th>new_deaths_smoothed_per_million</th>\n",
              "      <th>reproduction_rate</th>\n",
              "      <th>icu_patients</th>\n",
              "      <th>icu_patients_per_million</th>\n",
              "      <th>hosp_patients</th>\n",
              "      <th>hosp_patients_per_million</th>\n",
              "      <th>weekly_icu_admissions</th>\n",
              "      <th>weekly_icu_admissions_per_million</th>\n",
              "      <th>weekly_hosp_admissions</th>\n",
              "      <th>weekly_hosp_admissions_per_million</th>\n",
              "      <th>new_tests</th>\n",
              "      <th>total_tests</th>\n",
              "      <th>total_tests_per_thousand</th>\n",
              "      <th>new_tests_per_thousand</th>\n",
              "      <th>new_tests_smoothed</th>\n",
              "      <th>new_tests_smoothed_per_thousand</th>\n",
              "      <th>positive_rate</th>\n",
              "      <th>tests_per_case</th>\n",
              "      <th>tests_units</th>\n",
              "      <th>total_vaccinations</th>\n",
              "      <th>people_vaccinated</th>\n",
              "      <th>people_fully_vaccinated</th>\n",
              "      <th>new_vaccinations</th>\n",
              "      <th>new_vaccinations_smoothed</th>\n",
              "      <th>total_vaccinations_per_hundred</th>\n",
              "      <th>people_vaccinated_per_hundred</th>\n",
              "      <th>people_fully_vaccinated_per_hundred</th>\n",
              "      <th>new_vaccinations_smoothed_per_million</th>\n",
              "      <th>stringency_index</th>\n",
              "      <th>population</th>\n",
              "      <th>population_density</th>\n",
              "      <th>median_age</th>\n",
              "      <th>aged_65_older</th>\n",
              "      <th>aged_70_older</th>\n",
              "      <th>gdp_per_capita</th>\n",
              "      <th>extreme_poverty</th>\n",
              "      <th>cardiovasc_death_rate</th>\n",
              "      <th>diabetes_prevalence</th>\n",
              "      <th>female_smokers</th>\n",
              "      <th>male_smokers</th>\n",
              "      <th>handwashing_facilities</th>\n",
              "      <th>hospital_beds_per_thousand</th>\n",
              "      <th>life_expectancy</th>\n",
              "      <th>human_development_index</th>\n",
              "    </tr>\n",
              "  </thead>\n",
              "  <tbody>\n",
              "    <tr>\n",
              "      <th>0</th>\n",
              "      <td>AFG</td>\n",
              "      <td>Asia</td>\n",
              "      <td>Afghanistan</td>\n",
              "      <td>2020-02-24</td>\n",
              "      <td>1.0</td>\n",
              "      <td>1.0</td>\n",
              "      <td>NaN</td>\n",
              "      <td>NaN</td>\n",
              "      <td>NaN</td>\n",
              "      <td>NaN</td>\n",
              "      <td>0.026</td>\n",
              "      <td>0.026</td>\n",
              "      <td>NaN</td>\n",
              "      <td>NaN</td>\n",
              "      <td>NaN</td>\n",
              "      <td>NaN</td>\n",
              "      <td>NaN</td>\n",
              "      <td>NaN</td>\n",
              "      <td>NaN</td>\n",
              "      <td>NaN</td>\n",
              "      <td>NaN</td>\n",
              "      <td>NaN</td>\n",
              "      <td>NaN</td>\n",
              "      <td>NaN</td>\n",
              "      <td>NaN</td>\n",
              "      <td>NaN</td>\n",
              "      <td>NaN</td>\n",
              "      <td>NaN</td>\n",
              "      <td>NaN</td>\n",
              "      <td>NaN</td>\n",
              "      <td>NaN</td>\n",
              "      <td>NaN</td>\n",
              "      <td>NaN</td>\n",
              "      <td>NaN</td>\n",
              "      <td>NaN</td>\n",
              "      <td>NaN</td>\n",
              "      <td>NaN</td>\n",
              "      <td>NaN</td>\n",
              "      <td>NaN</td>\n",
              "      <td>NaN</td>\n",
              "      <td>NaN</td>\n",
              "      <td>NaN</td>\n",
              "      <td>NaN</td>\n",
              "      <td>8.33</td>\n",
              "      <td>38928341.0</td>\n",
              "      <td>54.422</td>\n",
              "      <td>18.6</td>\n",
              "      <td>2.581</td>\n",
              "      <td>1.337</td>\n",
              "      <td>1803.987</td>\n",
              "      <td>NaN</td>\n",
              "      <td>597.029</td>\n",
              "      <td>9.59</td>\n",
              "      <td>NaN</td>\n",
              "      <td>NaN</td>\n",
              "      <td>37.746</td>\n",
              "      <td>0.5</td>\n",
              "      <td>64.83</td>\n",
              "      <td>0.511</td>\n",
              "    </tr>\n",
              "    <tr>\n",
              "      <th>1</th>\n",
              "      <td>AFG</td>\n",
              "      <td>Asia</td>\n",
              "      <td>Afghanistan</td>\n",
              "      <td>2020-02-25</td>\n",
              "      <td>1.0</td>\n",
              "      <td>0.0</td>\n",
              "      <td>NaN</td>\n",
              "      <td>NaN</td>\n",
              "      <td>NaN</td>\n",
              "      <td>NaN</td>\n",
              "      <td>0.026</td>\n",
              "      <td>0.000</td>\n",
              "      <td>NaN</td>\n",
              "      <td>NaN</td>\n",
              "      <td>NaN</td>\n",
              "      <td>NaN</td>\n",
              "      <td>NaN</td>\n",
              "      <td>NaN</td>\n",
              "      <td>NaN</td>\n",
              "      <td>NaN</td>\n",
              "      <td>NaN</td>\n",
              "      <td>NaN</td>\n",
              "      <td>NaN</td>\n",
              "      <td>NaN</td>\n",
              "      <td>NaN</td>\n",
              "      <td>NaN</td>\n",
              "      <td>NaN</td>\n",
              "      <td>NaN</td>\n",
              "      <td>NaN</td>\n",
              "      <td>NaN</td>\n",
              "      <td>NaN</td>\n",
              "      <td>NaN</td>\n",
              "      <td>NaN</td>\n",
              "      <td>NaN</td>\n",
              "      <td>NaN</td>\n",
              "      <td>NaN</td>\n",
              "      <td>NaN</td>\n",
              "      <td>NaN</td>\n",
              "      <td>NaN</td>\n",
              "      <td>NaN</td>\n",
              "      <td>NaN</td>\n",
              "      <td>NaN</td>\n",
              "      <td>NaN</td>\n",
              "      <td>8.33</td>\n",
              "      <td>38928341.0</td>\n",
              "      <td>54.422</td>\n",
              "      <td>18.6</td>\n",
              "      <td>2.581</td>\n",
              "      <td>1.337</td>\n",
              "      <td>1803.987</td>\n",
              "      <td>NaN</td>\n",
              "      <td>597.029</td>\n",
              "      <td>9.59</td>\n",
              "      <td>NaN</td>\n",
              "      <td>NaN</td>\n",
              "      <td>37.746</td>\n",
              "      <td>0.5</td>\n",
              "      <td>64.83</td>\n",
              "      <td>0.511</td>\n",
              "    </tr>\n",
              "    <tr>\n",
              "      <th>2</th>\n",
              "      <td>AFG</td>\n",
              "      <td>Asia</td>\n",
              "      <td>Afghanistan</td>\n",
              "      <td>2020-02-26</td>\n",
              "      <td>1.0</td>\n",
              "      <td>0.0</td>\n",
              "      <td>NaN</td>\n",
              "      <td>NaN</td>\n",
              "      <td>NaN</td>\n",
              "      <td>NaN</td>\n",
              "      <td>0.026</td>\n",
              "      <td>0.000</td>\n",
              "      <td>NaN</td>\n",
              "      <td>NaN</td>\n",
              "      <td>NaN</td>\n",
              "      <td>NaN</td>\n",
              "      <td>NaN</td>\n",
              "      <td>NaN</td>\n",
              "      <td>NaN</td>\n",
              "      <td>NaN</td>\n",
              "      <td>NaN</td>\n",
              "      <td>NaN</td>\n",
              "      <td>NaN</td>\n",
              "      <td>NaN</td>\n",
              "      <td>NaN</td>\n",
              "      <td>NaN</td>\n",
              "      <td>NaN</td>\n",
              "      <td>NaN</td>\n",
              "      <td>NaN</td>\n",
              "      <td>NaN</td>\n",
              "      <td>NaN</td>\n",
              "      <td>NaN</td>\n",
              "      <td>NaN</td>\n",
              "      <td>NaN</td>\n",
              "      <td>NaN</td>\n",
              "      <td>NaN</td>\n",
              "      <td>NaN</td>\n",
              "      <td>NaN</td>\n",
              "      <td>NaN</td>\n",
              "      <td>NaN</td>\n",
              "      <td>NaN</td>\n",
              "      <td>NaN</td>\n",
              "      <td>NaN</td>\n",
              "      <td>8.33</td>\n",
              "      <td>38928341.0</td>\n",
              "      <td>54.422</td>\n",
              "      <td>18.6</td>\n",
              "      <td>2.581</td>\n",
              "      <td>1.337</td>\n",
              "      <td>1803.987</td>\n",
              "      <td>NaN</td>\n",
              "      <td>597.029</td>\n",
              "      <td>9.59</td>\n",
              "      <td>NaN</td>\n",
              "      <td>NaN</td>\n",
              "      <td>37.746</td>\n",
              "      <td>0.5</td>\n",
              "      <td>64.83</td>\n",
              "      <td>0.511</td>\n",
              "    </tr>\n",
              "    <tr>\n",
              "      <th>3</th>\n",
              "      <td>AFG</td>\n",
              "      <td>Asia</td>\n",
              "      <td>Afghanistan</td>\n",
              "      <td>2020-02-27</td>\n",
              "      <td>1.0</td>\n",
              "      <td>0.0</td>\n",
              "      <td>NaN</td>\n",
              "      <td>NaN</td>\n",
              "      <td>NaN</td>\n",
              "      <td>NaN</td>\n",
              "      <td>0.026</td>\n",
              "      <td>0.000</td>\n",
              "      <td>NaN</td>\n",
              "      <td>NaN</td>\n",
              "      <td>NaN</td>\n",
              "      <td>NaN</td>\n",
              "      <td>NaN</td>\n",
              "      <td>NaN</td>\n",
              "      <td>NaN</td>\n",
              "      <td>NaN</td>\n",
              "      <td>NaN</td>\n",
              "      <td>NaN</td>\n",
              "      <td>NaN</td>\n",
              "      <td>NaN</td>\n",
              "      <td>NaN</td>\n",
              "      <td>NaN</td>\n",
              "      <td>NaN</td>\n",
              "      <td>NaN</td>\n",
              "      <td>NaN</td>\n",
              "      <td>NaN</td>\n",
              "      <td>NaN</td>\n",
              "      <td>NaN</td>\n",
              "      <td>NaN</td>\n",
              "      <td>NaN</td>\n",
              "      <td>NaN</td>\n",
              "      <td>NaN</td>\n",
              "      <td>NaN</td>\n",
              "      <td>NaN</td>\n",
              "      <td>NaN</td>\n",
              "      <td>NaN</td>\n",
              "      <td>NaN</td>\n",
              "      <td>NaN</td>\n",
              "      <td>NaN</td>\n",
              "      <td>8.33</td>\n",
              "      <td>38928341.0</td>\n",
              "      <td>54.422</td>\n",
              "      <td>18.6</td>\n",
              "      <td>2.581</td>\n",
              "      <td>1.337</td>\n",
              "      <td>1803.987</td>\n",
              "      <td>NaN</td>\n",
              "      <td>597.029</td>\n",
              "      <td>9.59</td>\n",
              "      <td>NaN</td>\n",
              "      <td>NaN</td>\n",
              "      <td>37.746</td>\n",
              "      <td>0.5</td>\n",
              "      <td>64.83</td>\n",
              "      <td>0.511</td>\n",
              "    </tr>\n",
              "    <tr>\n",
              "      <th>4</th>\n",
              "      <td>AFG</td>\n",
              "      <td>Asia</td>\n",
              "      <td>Afghanistan</td>\n",
              "      <td>2020-02-28</td>\n",
              "      <td>1.0</td>\n",
              "      <td>0.0</td>\n",
              "      <td>NaN</td>\n",
              "      <td>NaN</td>\n",
              "      <td>NaN</td>\n",
              "      <td>NaN</td>\n",
              "      <td>0.026</td>\n",
              "      <td>0.000</td>\n",
              "      <td>NaN</td>\n",
              "      <td>NaN</td>\n",
              "      <td>NaN</td>\n",
              "      <td>NaN</td>\n",
              "      <td>NaN</td>\n",
              "      <td>NaN</td>\n",
              "      <td>NaN</td>\n",
              "      <td>NaN</td>\n",
              "      <td>NaN</td>\n",
              "      <td>NaN</td>\n",
              "      <td>NaN</td>\n",
              "      <td>NaN</td>\n",
              "      <td>NaN</td>\n",
              "      <td>NaN</td>\n",
              "      <td>NaN</td>\n",
              "      <td>NaN</td>\n",
              "      <td>NaN</td>\n",
              "      <td>NaN</td>\n",
              "      <td>NaN</td>\n",
              "      <td>NaN</td>\n",
              "      <td>NaN</td>\n",
              "      <td>NaN</td>\n",
              "      <td>NaN</td>\n",
              "      <td>NaN</td>\n",
              "      <td>NaN</td>\n",
              "      <td>NaN</td>\n",
              "      <td>NaN</td>\n",
              "      <td>NaN</td>\n",
              "      <td>NaN</td>\n",
              "      <td>NaN</td>\n",
              "      <td>NaN</td>\n",
              "      <td>8.33</td>\n",
              "      <td>38928341.0</td>\n",
              "      <td>54.422</td>\n",
              "      <td>18.6</td>\n",
              "      <td>2.581</td>\n",
              "      <td>1.337</td>\n",
              "      <td>1803.987</td>\n",
              "      <td>NaN</td>\n",
              "      <td>597.029</td>\n",
              "      <td>9.59</td>\n",
              "      <td>NaN</td>\n",
              "      <td>NaN</td>\n",
              "      <td>37.746</td>\n",
              "      <td>0.5</td>\n",
              "      <td>64.83</td>\n",
              "      <td>0.511</td>\n",
              "    </tr>\n",
              "    <tr>\n",
              "      <th>...</th>\n",
              "      <td>...</td>\n",
              "      <td>...</td>\n",
              "      <td>...</td>\n",
              "      <td>...</td>\n",
              "      <td>...</td>\n",
              "      <td>...</td>\n",
              "      <td>...</td>\n",
              "      <td>...</td>\n",
              "      <td>...</td>\n",
              "      <td>...</td>\n",
              "      <td>...</td>\n",
              "      <td>...</td>\n",
              "      <td>...</td>\n",
              "      <td>...</td>\n",
              "      <td>...</td>\n",
              "      <td>...</td>\n",
              "      <td>...</td>\n",
              "      <td>...</td>\n",
              "      <td>...</td>\n",
              "      <td>...</td>\n",
              "      <td>...</td>\n",
              "      <td>...</td>\n",
              "      <td>...</td>\n",
              "      <td>...</td>\n",
              "      <td>...</td>\n",
              "      <td>...</td>\n",
              "      <td>...</td>\n",
              "      <td>...</td>\n",
              "      <td>...</td>\n",
              "      <td>...</td>\n",
              "      <td>...</td>\n",
              "      <td>...</td>\n",
              "      <td>...</td>\n",
              "      <td>...</td>\n",
              "      <td>...</td>\n",
              "      <td>...</td>\n",
              "      <td>...</td>\n",
              "      <td>...</td>\n",
              "      <td>...</td>\n",
              "      <td>...</td>\n",
              "      <td>...</td>\n",
              "      <td>...</td>\n",
              "      <td>...</td>\n",
              "      <td>...</td>\n",
              "      <td>...</td>\n",
              "      <td>...</td>\n",
              "      <td>...</td>\n",
              "      <td>...</td>\n",
              "      <td>...</td>\n",
              "      <td>...</td>\n",
              "      <td>...</td>\n",
              "      <td>...</td>\n",
              "      <td>...</td>\n",
              "      <td>...</td>\n",
              "      <td>...</td>\n",
              "      <td>...</td>\n",
              "      <td>...</td>\n",
              "      <td>...</td>\n",
              "      <td>...</td>\n",
              "    </tr>\n",
              "    <tr>\n",
              "      <th>91021</th>\n",
              "      <td>ZWE</td>\n",
              "      <td>Africa</td>\n",
              "      <td>Zimbabwe</td>\n",
              "      <td>2021-05-20</td>\n",
              "      <td>38635.0</td>\n",
              "      <td>23.0</td>\n",
              "      <td>20.571</td>\n",
              "      <td>1585.0</td>\n",
              "      <td>2.0</td>\n",
              "      <td>0.429</td>\n",
              "      <td>2599.421</td>\n",
              "      <td>1.547</td>\n",
              "      <td>1.384</td>\n",
              "      <td>106.641</td>\n",
              "      <td>0.135</td>\n",
              "      <td>0.029</td>\n",
              "      <td>0.86</td>\n",
              "      <td>NaN</td>\n",
              "      <td>NaN</td>\n",
              "      <td>NaN</td>\n",
              "      <td>NaN</td>\n",
              "      <td>NaN</td>\n",
              "      <td>NaN</td>\n",
              "      <td>NaN</td>\n",
              "      <td>NaN</td>\n",
              "      <td>2134.0</td>\n",
              "      <td>532459.0</td>\n",
              "      <td>35.825</td>\n",
              "      <td>0.144</td>\n",
              "      <td>1985.0</td>\n",
              "      <td>0.134</td>\n",
              "      <td>0.01</td>\n",
              "      <td>96.5</td>\n",
              "      <td>tests performed</td>\n",
              "      <td>867396.0</td>\n",
              "      <td>615296.0</td>\n",
              "      <td>252100.0</td>\n",
              "      <td>22712.0</td>\n",
              "      <td>16482.0</td>\n",
              "      <td>5.84</td>\n",
              "      <td>4.14</td>\n",
              "      <td>1.70</td>\n",
              "      <td>1109.0</td>\n",
              "      <td>49.07</td>\n",
              "      <td>14862927.0</td>\n",
              "      <td>42.729</td>\n",
              "      <td>19.6</td>\n",
              "      <td>2.822</td>\n",
              "      <td>1.882</td>\n",
              "      <td>1899.775</td>\n",
              "      <td>21.4</td>\n",
              "      <td>307.846</td>\n",
              "      <td>1.82</td>\n",
              "      <td>1.6</td>\n",
              "      <td>30.7</td>\n",
              "      <td>36.791</td>\n",
              "      <td>1.7</td>\n",
              "      <td>61.49</td>\n",
              "      <td>0.571</td>\n",
              "    </tr>\n",
              "    <tr>\n",
              "      <th>91022</th>\n",
              "      <td>ZWE</td>\n",
              "      <td>Africa</td>\n",
              "      <td>Zimbabwe</td>\n",
              "      <td>2021-05-21</td>\n",
              "      <td>38664.0</td>\n",
              "      <td>29.0</td>\n",
              "      <td>18.429</td>\n",
              "      <td>1586.0</td>\n",
              "      <td>1.0</td>\n",
              "      <td>0.571</td>\n",
              "      <td>2601.372</td>\n",
              "      <td>1.951</td>\n",
              "      <td>1.240</td>\n",
              "      <td>106.708</td>\n",
              "      <td>0.067</td>\n",
              "      <td>0.038</td>\n",
              "      <td>0.86</td>\n",
              "      <td>NaN</td>\n",
              "      <td>NaN</td>\n",
              "      <td>NaN</td>\n",
              "      <td>NaN</td>\n",
              "      <td>NaN</td>\n",
              "      <td>NaN</td>\n",
              "      <td>NaN</td>\n",
              "      <td>NaN</td>\n",
              "      <td>NaN</td>\n",
              "      <td>NaN</td>\n",
              "      <td>NaN</td>\n",
              "      <td>NaN</td>\n",
              "      <td>NaN</td>\n",
              "      <td>NaN</td>\n",
              "      <td>NaN</td>\n",
              "      <td>NaN</td>\n",
              "      <td>NaN</td>\n",
              "      <td>887928.0</td>\n",
              "      <td>624665.0</td>\n",
              "      <td>263263.0</td>\n",
              "      <td>20532.0</td>\n",
              "      <td>16098.0</td>\n",
              "      <td>5.97</td>\n",
              "      <td>4.20</td>\n",
              "      <td>1.77</td>\n",
              "      <td>1083.0</td>\n",
              "      <td>49.07</td>\n",
              "      <td>14862927.0</td>\n",
              "      <td>42.729</td>\n",
              "      <td>19.6</td>\n",
              "      <td>2.822</td>\n",
              "      <td>1.882</td>\n",
              "      <td>1899.775</td>\n",
              "      <td>21.4</td>\n",
              "      <td>307.846</td>\n",
              "      <td>1.82</td>\n",
              "      <td>1.6</td>\n",
              "      <td>30.7</td>\n",
              "      <td>36.791</td>\n",
              "      <td>1.7</td>\n",
              "      <td>61.49</td>\n",
              "      <td>0.571</td>\n",
              "    </tr>\n",
              "    <tr>\n",
              "      <th>91023</th>\n",
              "      <td>ZWE</td>\n",
              "      <td>Africa</td>\n",
              "      <td>Zimbabwe</td>\n",
              "      <td>2021-05-22</td>\n",
              "      <td>38679.0</td>\n",
              "      <td>15.0</td>\n",
              "      <td>17.857</td>\n",
              "      <td>1586.0</td>\n",
              "      <td>0.0</td>\n",
              "      <td>0.571</td>\n",
              "      <td>2602.381</td>\n",
              "      <td>1.009</td>\n",
              "      <td>1.201</td>\n",
              "      <td>106.708</td>\n",
              "      <td>0.000</td>\n",
              "      <td>0.038</td>\n",
              "      <td>0.85</td>\n",
              "      <td>NaN</td>\n",
              "      <td>NaN</td>\n",
              "      <td>NaN</td>\n",
              "      <td>NaN</td>\n",
              "      <td>NaN</td>\n",
              "      <td>NaN</td>\n",
              "      <td>NaN</td>\n",
              "      <td>NaN</td>\n",
              "      <td>NaN</td>\n",
              "      <td>NaN</td>\n",
              "      <td>NaN</td>\n",
              "      <td>NaN</td>\n",
              "      <td>NaN</td>\n",
              "      <td>NaN</td>\n",
              "      <td>NaN</td>\n",
              "      <td>NaN</td>\n",
              "      <td>NaN</td>\n",
              "      <td>904073.0</td>\n",
              "      <td>630348.0</td>\n",
              "      <td>273725.0</td>\n",
              "      <td>16145.0</td>\n",
              "      <td>15823.0</td>\n",
              "      <td>6.08</td>\n",
              "      <td>4.24</td>\n",
              "      <td>1.84</td>\n",
              "      <td>1065.0</td>\n",
              "      <td>49.07</td>\n",
              "      <td>14862927.0</td>\n",
              "      <td>42.729</td>\n",
              "      <td>19.6</td>\n",
              "      <td>2.822</td>\n",
              "      <td>1.882</td>\n",
              "      <td>1899.775</td>\n",
              "      <td>21.4</td>\n",
              "      <td>307.846</td>\n",
              "      <td>1.82</td>\n",
              "      <td>1.6</td>\n",
              "      <td>30.7</td>\n",
              "      <td>36.791</td>\n",
              "      <td>1.7</td>\n",
              "      <td>61.49</td>\n",
              "      <td>0.571</td>\n",
              "    </tr>\n",
              "    <tr>\n",
              "      <th>91024</th>\n",
              "      <td>ZWE</td>\n",
              "      <td>Africa</td>\n",
              "      <td>Zimbabwe</td>\n",
              "      <td>2021-05-23</td>\n",
              "      <td>38682.0</td>\n",
              "      <td>3.0</td>\n",
              "      <td>17.429</td>\n",
              "      <td>1586.0</td>\n",
              "      <td>0.0</td>\n",
              "      <td>0.571</td>\n",
              "      <td>2602.583</td>\n",
              "      <td>0.202</td>\n",
              "      <td>1.173</td>\n",
              "      <td>106.708</td>\n",
              "      <td>0.000</td>\n",
              "      <td>0.038</td>\n",
              "      <td>0.85</td>\n",
              "      <td>NaN</td>\n",
              "      <td>NaN</td>\n",
              "      <td>NaN</td>\n",
              "      <td>NaN</td>\n",
              "      <td>NaN</td>\n",
              "      <td>NaN</td>\n",
              "      <td>NaN</td>\n",
              "      <td>NaN</td>\n",
              "      <td>NaN</td>\n",
              "      <td>NaN</td>\n",
              "      <td>NaN</td>\n",
              "      <td>NaN</td>\n",
              "      <td>NaN</td>\n",
              "      <td>NaN</td>\n",
              "      <td>NaN</td>\n",
              "      <td>NaN</td>\n",
              "      <td>NaN</td>\n",
              "      <td>911033.0</td>\n",
              "      <td>632496.0</td>\n",
              "      <td>278537.0</td>\n",
              "      <td>6960.0</td>\n",
              "      <td>16298.0</td>\n",
              "      <td>6.13</td>\n",
              "      <td>4.26</td>\n",
              "      <td>1.87</td>\n",
              "      <td>1097.0</td>\n",
              "      <td>49.07</td>\n",
              "      <td>14862927.0</td>\n",
              "      <td>42.729</td>\n",
              "      <td>19.6</td>\n",
              "      <td>2.822</td>\n",
              "      <td>1.882</td>\n",
              "      <td>1899.775</td>\n",
              "      <td>21.4</td>\n",
              "      <td>307.846</td>\n",
              "      <td>1.82</td>\n",
              "      <td>1.6</td>\n",
              "      <td>30.7</td>\n",
              "      <td>36.791</td>\n",
              "      <td>1.7</td>\n",
              "      <td>61.49</td>\n",
              "      <td>0.571</td>\n",
              "    </tr>\n",
              "    <tr>\n",
              "      <th>91025</th>\n",
              "      <td>ZWE</td>\n",
              "      <td>Africa</td>\n",
              "      <td>Zimbabwe</td>\n",
              "      <td>2021-05-24</td>\n",
              "      <td>38696.0</td>\n",
              "      <td>14.0</td>\n",
              "      <td>17.714</td>\n",
              "      <td>1586.0</td>\n",
              "      <td>0.0</td>\n",
              "      <td>0.571</td>\n",
              "      <td>2603.525</td>\n",
              "      <td>0.942</td>\n",
              "      <td>1.192</td>\n",
              "      <td>106.708</td>\n",
              "      <td>0.000</td>\n",
              "      <td>0.038</td>\n",
              "      <td>NaN</td>\n",
              "      <td>NaN</td>\n",
              "      <td>NaN</td>\n",
              "      <td>NaN</td>\n",
              "      <td>NaN</td>\n",
              "      <td>NaN</td>\n",
              "      <td>NaN</td>\n",
              "      <td>NaN</td>\n",
              "      <td>NaN</td>\n",
              "      <td>NaN</td>\n",
              "      <td>NaN</td>\n",
              "      <td>NaN</td>\n",
              "      <td>NaN</td>\n",
              "      <td>NaN</td>\n",
              "      <td>NaN</td>\n",
              "      <td>NaN</td>\n",
              "      <td>NaN</td>\n",
              "      <td>NaN</td>\n",
              "      <td>914921.0</td>\n",
              "      <td>633635.0</td>\n",
              "      <td>281286.0</td>\n",
              "      <td>3888.0</td>\n",
              "      <td>14380.0</td>\n",
              "      <td>6.16</td>\n",
              "      <td>4.26</td>\n",
              "      <td>1.89</td>\n",
              "      <td>968.0</td>\n",
              "      <td>NaN</td>\n",
              "      <td>14862927.0</td>\n",
              "      <td>42.729</td>\n",
              "      <td>19.6</td>\n",
              "      <td>2.822</td>\n",
              "      <td>1.882</td>\n",
              "      <td>1899.775</td>\n",
              "      <td>21.4</td>\n",
              "      <td>307.846</td>\n",
              "      <td>1.82</td>\n",
              "      <td>1.6</td>\n",
              "      <td>30.7</td>\n",
              "      <td>36.791</td>\n",
              "      <td>1.7</td>\n",
              "      <td>61.49</td>\n",
              "      <td>0.571</td>\n",
              "    </tr>\n",
              "  </tbody>\n",
              "</table>\n",
              "<p>91026 rows × 59 columns</p>\n",
              "</div>"
            ],
            "text/plain": [
              "      iso_code continent  ... life_expectancy human_development_index\n",
              "0          AFG      Asia  ...           64.83                   0.511\n",
              "1          AFG      Asia  ...           64.83                   0.511\n",
              "2          AFG      Asia  ...           64.83                   0.511\n",
              "3          AFG      Asia  ...           64.83                   0.511\n",
              "4          AFG      Asia  ...           64.83                   0.511\n",
              "...        ...       ...  ...             ...                     ...\n",
              "91021      ZWE    Africa  ...           61.49                   0.571\n",
              "91022      ZWE    Africa  ...           61.49                   0.571\n",
              "91023      ZWE    Africa  ...           61.49                   0.571\n",
              "91024      ZWE    Africa  ...           61.49                   0.571\n",
              "91025      ZWE    Africa  ...           61.49                   0.571\n",
              "\n",
              "[91026 rows x 59 columns]"
            ]
          },
          "metadata": {
            "tags": []
          },
          "execution_count": 2
        }
      ]
    },
    {
      "cell_type": "markdown",
      "metadata": {
        "id": "EdXxXkQvqS7l"
      },
      "source": [
        "# **TASK:1**"
      ]
    },
    {
      "cell_type": "markdown",
      "metadata": {
        "id": "RipviJscTj-E"
      },
      "source": [
        "**A NEW DATA SET OF REQUIRED ATTRIBUTES**"
      ]
    },
    {
      "cell_type": "code",
      "metadata": {
        "colab": {
          "base_uri": "https://localhost:8080/",
          "height": 359
        },
        "id": "MJBbW6ltIsgd",
        "outputId": "1563d2f8-fcde-4bf8-ae8b-99e0ace5a0c6"
      },
      "source": [
        "clean=covid[['continent','location','date','total_cases']]\n",
        "clean.head(10)\n"
      ],
      "execution_count": null,
      "outputs": [
        {
          "output_type": "execute_result",
          "data": {
            "text/html": [
              "<div>\n",
              "<style scoped>\n",
              "    .dataframe tbody tr th:only-of-type {\n",
              "        vertical-align: middle;\n",
              "    }\n",
              "\n",
              "    .dataframe tbody tr th {\n",
              "        vertical-align: top;\n",
              "    }\n",
              "\n",
              "    .dataframe thead th {\n",
              "        text-align: right;\n",
              "    }\n",
              "</style>\n",
              "<table border=\"1\" class=\"dataframe\">\n",
              "  <thead>\n",
              "    <tr style=\"text-align: right;\">\n",
              "      <th></th>\n",
              "      <th>continent</th>\n",
              "      <th>location</th>\n",
              "      <th>date</th>\n",
              "      <th>total_cases</th>\n",
              "    </tr>\n",
              "  </thead>\n",
              "  <tbody>\n",
              "    <tr>\n",
              "      <th>0</th>\n",
              "      <td>Asia</td>\n",
              "      <td>Afghanistan</td>\n",
              "      <td>2020-02-24</td>\n",
              "      <td>1.0</td>\n",
              "    </tr>\n",
              "    <tr>\n",
              "      <th>1</th>\n",
              "      <td>Asia</td>\n",
              "      <td>Afghanistan</td>\n",
              "      <td>2020-02-25</td>\n",
              "      <td>1.0</td>\n",
              "    </tr>\n",
              "    <tr>\n",
              "      <th>2</th>\n",
              "      <td>Asia</td>\n",
              "      <td>Afghanistan</td>\n",
              "      <td>2020-02-26</td>\n",
              "      <td>1.0</td>\n",
              "    </tr>\n",
              "    <tr>\n",
              "      <th>3</th>\n",
              "      <td>Asia</td>\n",
              "      <td>Afghanistan</td>\n",
              "      <td>2020-02-27</td>\n",
              "      <td>1.0</td>\n",
              "    </tr>\n",
              "    <tr>\n",
              "      <th>4</th>\n",
              "      <td>Asia</td>\n",
              "      <td>Afghanistan</td>\n",
              "      <td>2020-02-28</td>\n",
              "      <td>1.0</td>\n",
              "    </tr>\n",
              "    <tr>\n",
              "      <th>5</th>\n",
              "      <td>Asia</td>\n",
              "      <td>Afghanistan</td>\n",
              "      <td>2020-02-29</td>\n",
              "      <td>1.0</td>\n",
              "    </tr>\n",
              "    <tr>\n",
              "      <th>6</th>\n",
              "      <td>Asia</td>\n",
              "      <td>Afghanistan</td>\n",
              "      <td>2020-03-01</td>\n",
              "      <td>1.0</td>\n",
              "    </tr>\n",
              "    <tr>\n",
              "      <th>7</th>\n",
              "      <td>Asia</td>\n",
              "      <td>Afghanistan</td>\n",
              "      <td>2020-03-02</td>\n",
              "      <td>1.0</td>\n",
              "    </tr>\n",
              "    <tr>\n",
              "      <th>8</th>\n",
              "      <td>Asia</td>\n",
              "      <td>Afghanistan</td>\n",
              "      <td>2020-03-03</td>\n",
              "      <td>2.0</td>\n",
              "    </tr>\n",
              "    <tr>\n",
              "      <th>9</th>\n",
              "      <td>Asia</td>\n",
              "      <td>Afghanistan</td>\n",
              "      <td>2020-03-04</td>\n",
              "      <td>4.0</td>\n",
              "    </tr>\n",
              "  </tbody>\n",
              "</table>\n",
              "</div>"
            ],
            "text/plain": [
              "  continent     location        date  total_cases\n",
              "0      Asia  Afghanistan  2020-02-24          1.0\n",
              "1      Asia  Afghanistan  2020-02-25          1.0\n",
              "2      Asia  Afghanistan  2020-02-26          1.0\n",
              "3      Asia  Afghanistan  2020-02-27          1.0\n",
              "4      Asia  Afghanistan  2020-02-28          1.0\n",
              "5      Asia  Afghanistan  2020-02-29          1.0\n",
              "6      Asia  Afghanistan  2020-03-01          1.0\n",
              "7      Asia  Afghanistan  2020-03-02          1.0\n",
              "8      Asia  Afghanistan  2020-03-03          2.0\n",
              "9      Asia  Afghanistan  2020-03-04          4.0"
            ]
          },
          "metadata": {
            "tags": []
          },
          "execution_count": 3
        }
      ]
    },
    {
      "cell_type": "markdown",
      "metadata": {
        "id": "JBvPFzxwT0sE"
      },
      "source": [
        "**FIND DIFFERENT LOCATIONS USING UNIQUE METHOD**"
      ]
    },
    {
      "cell_type": "code",
      "metadata": {
        "colab": {
          "base_uri": "https://localhost:8080/"
        },
        "id": "Hej7c7hYJ0mj",
        "outputId": "a2905492-d3d4-48ed-c5cf-1eb12fa47f49"
      },
      "source": [
        "firr = clean['location'].unique()\n",
        "print(firr)\n",
        "print(len(firr))"
      ],
      "execution_count": null,
      "outputs": [
        {
          "output_type": "stream",
          "text": [
            "['Afghanistan' 'Africa' 'Albania' 'Algeria' 'Andorra' 'Angola' 'Anguilla'\n",
            " 'Antigua and Barbuda' 'Argentina' 'Armenia' 'Aruba' 'Asia' 'Australia'\n",
            " 'Austria' 'Azerbaijan' 'Bahamas' 'Bahrain' 'Bangladesh' 'Barbados'\n",
            " 'Belarus' 'Belgium' 'Belize' 'Benin' 'Bermuda' 'Bhutan' 'Bolivia'\n",
            " 'Bonaire Sint Eustatius and Saba' 'Bosnia and Herzegovina' 'Botswana'\n",
            " 'Brazil' 'Brunei' 'Bulgaria' 'Burkina Faso' 'Burundi' 'Cambodia'\n",
            " 'Cameroon' 'Canada' 'Cape Verde' 'Cayman Islands'\n",
            " 'Central African Republic' 'Chad' 'Chile' 'China' 'Colombia' 'Comoros'\n",
            " 'Congo' 'Costa Rica' \"Cote d'Ivoire\" 'Croatia' 'Cuba' 'Curacao' 'Cyprus'\n",
            " 'Czechia' 'Democratic Republic of Congo' 'Denmark' 'Djibouti' 'Dominica'\n",
            " 'Dominican Republic' 'Ecuador' 'Egypt' 'El Salvador' 'Equatorial Guinea'\n",
            " 'Eritrea' 'Estonia' 'Eswatini' 'Ethiopia' 'Europe' 'European Union'\n",
            " 'Faeroe Islands' 'Falkland Islands' 'Fiji' 'Finland' 'France'\n",
            " 'French Polynesia' 'Gabon' 'Gambia' 'Georgia' 'Germany' 'Ghana'\n",
            " 'Gibraltar' 'Greece' 'Greenland' 'Grenada' 'Guatemala' 'Guernsey'\n",
            " 'Guinea' 'Guinea-Bissau' 'Guyana' 'Haiti' 'Honduras' 'Hong Kong'\n",
            " 'Hungary' 'Iceland' 'India' 'Indonesia' 'International' 'Iran' 'Iraq'\n",
            " 'Ireland' 'Isle of Man' 'Israel' 'Italy' 'Jamaica' 'Japan' 'Jersey'\n",
            " 'Jordan' 'Kazakhstan' 'Kenya' 'Kosovo' 'Kuwait' 'Kyrgyzstan' 'Laos'\n",
            " 'Latvia' 'Lebanon' 'Lesotho' 'Liberia' 'Libya' 'Liechtenstein'\n",
            " 'Lithuania' 'Luxembourg' 'Macao' 'Madagascar' 'Malawi' 'Malaysia'\n",
            " 'Maldives' 'Mali' 'Malta' 'Marshall Islands' 'Mauritania' 'Mauritius'\n",
            " 'Mexico' 'Micronesia (country)' 'Moldova' 'Monaco' 'Mongolia'\n",
            " 'Montenegro' 'Montserrat' 'Morocco' 'Mozambique' 'Myanmar' 'Namibia'\n",
            " 'Nauru' 'Nepal' 'Netherlands' 'New Caledonia' 'New Zealand' 'Nicaragua'\n",
            " 'Niger' 'Nigeria' 'North America' 'North Macedonia' 'Northern Cyprus'\n",
            " 'Norway' 'Oceania' 'Oman' 'Pakistan' 'Palestine' 'Panama'\n",
            " 'Papua New Guinea' 'Paraguay' 'Peru' 'Philippines' 'Poland' 'Portugal'\n",
            " 'Qatar' 'Romania' 'Russia' 'Rwanda' 'Saint Helena'\n",
            " 'Saint Kitts and Nevis' 'Saint Lucia' 'Saint Vincent and the Grenadines'\n",
            " 'Samoa' 'San Marino' 'Sao Tome and Principe' 'Saudi Arabia' 'Senegal'\n",
            " 'Serbia' 'Seychelles' 'Sierra Leone' 'Singapore'\n",
            " 'Sint Maarten (Dutch part)' 'Slovakia' 'Slovenia' 'Solomon Islands'\n",
            " 'Somalia' 'South Africa' 'South America' 'South Korea' 'South Sudan'\n",
            " 'Spain' 'Sri Lanka' 'Sudan' 'Suriname' 'Sweden' 'Switzerland' 'Syria'\n",
            " 'Taiwan' 'Tajikistan' 'Tanzania' 'Thailand' 'Timor' 'Togo' 'Tonga'\n",
            " 'Trinidad and Tobago' 'Tunisia' 'Turkey' 'Turkmenistan'\n",
            " 'Turks and Caicos Islands' 'Tuvalu' 'Uganda' 'Ukraine'\n",
            " 'United Arab Emirates' 'United Kingdom' 'United States' 'Uruguay'\n",
            " 'Uzbekistan' 'Vanuatu' 'Vatican' 'Venezuela' 'Vietnam'\n",
            " 'Wallis and Futuna' 'World' 'Yemen' 'Zambia' 'Zimbabwe']\n",
            "226\n"
          ],
          "name": "stdout"
        }
      ]
    },
    {
      "cell_type": "markdown",
      "metadata": {
        "id": "gsOa5FuaT-TA"
      },
      "source": [
        "**VARIABLE WHICH CONTAINS DATA WHEN DATE IS 24-05-2021**"
      ]
    },
    {
      "cell_type": "code",
      "metadata": {
        "colab": {
          "base_uri": "https://localhost:8080/",
          "height": 419
        },
        "id": "zr1MmU1JI7QK",
        "outputId": "33684d60-1bc4-4a47-b4ac-c3af0e165ff7"
      },
      "source": [
        "fit= (clean['date']=='2021-05-24') \n",
        "clean[fit]"
      ],
      "execution_count": null,
      "outputs": [
        {
          "output_type": "execute_result",
          "data": {
            "text/html": [
              "<div>\n",
              "<style scoped>\n",
              "    .dataframe tbody tr th:only-of-type {\n",
              "        vertical-align: middle;\n",
              "    }\n",
              "\n",
              "    .dataframe tbody tr th {\n",
              "        vertical-align: top;\n",
              "    }\n",
              "\n",
              "    .dataframe thead th {\n",
              "        text-align: right;\n",
              "    }\n",
              "</style>\n",
              "<table border=\"1\" class=\"dataframe\">\n",
              "  <thead>\n",
              "    <tr style=\"text-align: right;\">\n",
              "      <th></th>\n",
              "      <th>continent</th>\n",
              "      <th>location</th>\n",
              "      <th>date</th>\n",
              "      <th>total_cases</th>\n",
              "    </tr>\n",
              "  </thead>\n",
              "  <tbody>\n",
              "    <tr>\n",
              "      <th>455</th>\n",
              "      <td>Asia</td>\n",
              "      <td>Afghanistan</td>\n",
              "      <td>2021-05-24</td>\n",
              "      <td>66275.0</td>\n",
              "    </tr>\n",
              "    <tr>\n",
              "      <th>922</th>\n",
              "      <td>NaN</td>\n",
              "      <td>Africa</td>\n",
              "      <td>2021-05-24</td>\n",
              "      <td>4765208.0</td>\n",
              "    </tr>\n",
              "    <tr>\n",
              "      <th>1377</th>\n",
              "      <td>Europe</td>\n",
              "      <td>Albania</td>\n",
              "      <td>2021-05-24</td>\n",
              "      <td>132215.0</td>\n",
              "    </tr>\n",
              "    <tr>\n",
              "      <th>1832</th>\n",
              "      <td>Africa</td>\n",
              "      <td>Algeria</td>\n",
              "      <td>2021-05-24</td>\n",
              "      <td>127107.0</td>\n",
              "    </tr>\n",
              "    <tr>\n",
              "      <th>2281</th>\n",
              "      <td>Europe</td>\n",
              "      <td>Andorra</td>\n",
              "      <td>2021-05-24</td>\n",
              "      <td>13569.0</td>\n",
              "    </tr>\n",
              "    <tr>\n",
              "      <th>...</th>\n",
              "      <td>...</td>\n",
              "      <td>...</td>\n",
              "      <td>...</td>\n",
              "      <td>...</td>\n",
              "    </tr>\n",
              "    <tr>\n",
              "      <th>89205</th>\n",
              "      <td>Asia</td>\n",
              "      <td>Vietnam</td>\n",
              "      <td>2021-05-24</td>\n",
              "      <td>5404.0</td>\n",
              "    </tr>\n",
              "    <tr>\n",
              "      <th>89751</th>\n",
              "      <td>NaN</td>\n",
              "      <td>World</td>\n",
              "      <td>2021-05-24</td>\n",
              "      <td>167316360.0</td>\n",
              "    </tr>\n",
              "    <tr>\n",
              "      <th>90161</th>\n",
              "      <td>Asia</td>\n",
              "      <td>Yemen</td>\n",
              "      <td>2021-05-24</td>\n",
              "      <td>6662.0</td>\n",
              "    </tr>\n",
              "    <tr>\n",
              "      <th>90594</th>\n",
              "      <td>Africa</td>\n",
              "      <td>Zambia</td>\n",
              "      <td>2021-05-24</td>\n",
              "      <td>93279.0</td>\n",
              "    </tr>\n",
              "    <tr>\n",
              "      <th>91025</th>\n",
              "      <td>Africa</td>\n",
              "      <td>Zimbabwe</td>\n",
              "      <td>2021-05-24</td>\n",
              "      <td>38696.0</td>\n",
              "    </tr>\n",
              "  </tbody>\n",
              "</table>\n",
              "<p>207 rows × 4 columns</p>\n",
              "</div>"
            ],
            "text/plain": [
              "      continent     location        date  total_cases\n",
              "455        Asia  Afghanistan  2021-05-24      66275.0\n",
              "922         NaN       Africa  2021-05-24    4765208.0\n",
              "1377     Europe      Albania  2021-05-24     132215.0\n",
              "1832     Africa      Algeria  2021-05-24     127107.0\n",
              "2281     Europe      Andorra  2021-05-24      13569.0\n",
              "...         ...          ...         ...          ...\n",
              "89205      Asia      Vietnam  2021-05-24       5404.0\n",
              "89751       NaN        World  2021-05-24  167316360.0\n",
              "90161      Asia        Yemen  2021-05-24       6662.0\n",
              "90594    Africa       Zambia  2021-05-24      93279.0\n",
              "91025    Africa     Zimbabwe  2021-05-24      38696.0\n",
              "\n",
              "[207 rows x 4 columns]"
            ]
          },
          "metadata": {
            "tags": []
          },
          "execution_count": 5
        }
      ]
    },
    {
      "cell_type": "markdown",
      "metadata": {
        "id": "nhfLRiXSUOE0"
      },
      "source": [
        "**DIFFERENT CONTINENT PRESENT IN DATA SET**"
      ]
    },
    {
      "cell_type": "code",
      "metadata": {
        "colab": {
          "base_uri": "https://localhost:8080/"
        },
        "id": "aWpiZ3ZngeTy",
        "outputId": "fd6b634b-c6b7-4ab2-cac4-59d7b589eda4"
      },
      "source": [
        "con=clean['continent'].unique()\n",
        "con"
      ],
      "execution_count": null,
      "outputs": [
        {
          "output_type": "execute_result",
          "data": {
            "text/plain": [
              "array(['Asia', nan, 'Europe', 'Africa', 'North America', 'South America',\n",
              "       'Oceania'], dtype=object)"
            ]
          },
          "metadata": {
            "tags": []
          },
          "execution_count": 6
        }
      ]
    },
    {
      "cell_type": "markdown",
      "metadata": {
        "id": "LZahl7AtUWdq"
      },
      "source": [
        "**DIFFERENT WHICH CONTAINS DATA OF DIFFERNET CONTINENT**"
      ]
    },
    {
      "cell_type": "code",
      "metadata": {
        "id": "zuXVdj4lJMVB"
      },
      "source": [
        "fit2= (clean[fit]['continent']=='Asia')\n",
        "fit3=(clean[fit]['continent']=='Europe')\n",
        "fit4=(clean[fit]['continent']=='Africa')\n",
        "fit5=(clean[fit]['continent']=='North America')\n",
        "fit6=(clean[fit]['continent']=='South America')\n",
        "fit7=(clean[fit]['continent']=='Oceania')"
      ],
      "execution_count": null,
      "outputs": []
    },
    {
      "cell_type": "markdown",
      "metadata": {
        "id": "JfH6gOPqUhLU"
      },
      "source": [
        "**SUM OF TOTAL CASES FROM DIFFERENT CONTINENT**"
      ]
    },
    {
      "cell_type": "code",
      "metadata": {
        "colab": {
          "base_uri": "https://localhost:8080/"
        },
        "id": "RUkgbXkm3lHB",
        "outputId": "4a75b073-e52d-449f-c3d7-1883461fe294"
      },
      "source": [
        "sum1=clean[fit][fit2]['total_cases'].sum()\n",
        "sum2=clean[fit][fit3]['total_cases'].sum()\n",
        "sum3=clean[fit][fit4]['total_cases'].sum()\n",
        "sum4=clean[fit][fit5]['total_cases'].sum()\n",
        "sum5=clean[fit][fit6]['total_cases'].sum()\n",
        "sum6=clean[fit][fit7]['total_cases'].sum()\n",
        "total_sum=[]\n",
        "total_sum.append(sum1)\n",
        "total_sum.append(sum2)\n",
        "total_sum.append(sum3)\n",
        "total_sum.append(sum4)\n",
        "total_sum.append(sum5)\n",
        "total_sum.append(sum6)\n",
        "print(total_sum)\n",
        "\n"
      ],
      "execution_count": null,
      "outputs": [
        {
          "output_type": "stream",
          "text": [
            "[49482041.0, 46514566.0, 4765208.0, 38686114.0, 27819555.0, 48155.0]\n"
          ],
          "name": "stdout"
        }
      ]
    },
    {
      "cell_type": "markdown",
      "metadata": {
        "id": "Q6XZVeECUsE-"
      },
      "source": [
        "**LIST CONVERSION IN INTEGER**"
      ]
    },
    {
      "cell_type": "code",
      "metadata": {
        "colab": {
          "base_uri": "https://localhost:8080/"
        },
        "id": "WSzzY4KBiQGz",
        "outputId": "7ae54762-128a-40c3-a0c4-faa2b5fb92c7"
      },
      "source": [
        "print(total_sum)\n",
        "print(con)\n",
        "total_sum=[int(i) for i in total_sum]\n",
        "print(total_sum)"
      ],
      "execution_count": null,
      "outputs": [
        {
          "output_type": "stream",
          "text": [
            "[49482041.0, 46514566.0, 4765208.0, 38686114.0, 27819555.0, 48155.0]\n",
            "['Asia' nan 'Europe' 'Africa' 'North America' 'South America' 'Oceania']\n",
            "[49482041, 46514566, 4765208, 38686114, 27819555, 48155]\n"
          ],
          "name": "stdout"
        }
      ]
    },
    {
      "cell_type": "markdown",
      "metadata": {
        "id": "y1oE7qHHUw6E"
      },
      "source": [
        "**BARCHART OF TOTAL CASES VS CONTINENT**"
      ]
    },
    {
      "cell_type": "code",
      "metadata": {
        "colab": {
          "base_uri": "https://localhost:8080/",
          "height": 348
        },
        "id": "myJLSBhyi7Qb",
        "outputId": "72aa13ea-d553-4ff7-b318-44d082122ab0"
      },
      "source": [
        "New_colors = ['green','blue','purple','brown','teal','maroon']\n",
        "plt.bar(['Asia','Europe','Africa','North \\n America','South \\n America','Oceania'],[49482041, 46514566, 4765208, 38686114, 27819555, 48155],color=New_colors)\n",
        "plt.xlabel(\"Continent\",fontsize=14)\n",
        "plt.ylabel(\"Total_Cases\",fontsize=14)\n",
        "plt.title(\"Comparison of total Cases \\n\",fontsize=24)\n",
        "plt.show()"
      ],
      "execution_count": null,
      "outputs": [
        {
          "output_type": "display_data",
          "data": {
            "image/png": "[encoded data removed]",
            "text/plain": [
              "<Figure size 432x288 with 1 Axes>"
            ]
          },
          "metadata": {
            "tags": [],
            "needs_background": "light"
          }
        }
      ]
    },
    {
      "cell_type": "markdown",
      "metadata": {
        "id": "D-mSxrRrqZQ3"
      },
      "source": [
        "# **TASK:2**"
      ]
    },
    {
      "cell_type": "markdown",
      "metadata": {
        "id": "4dZF_ovZxJWA"
      },
      "source": [
        "# **For Finding Total-Population**"
      ]
    },
    {
      "cell_type": "code",
      "metadata": {
        "colab": {
          "base_uri": "https://localhost:8080/"
        },
        "id": "yQGFEMZ-aFOu",
        "outputId": "ca6be139-f782-4725-94d1-812b606691e2"
      },
      "source": [
        "fit_2= (covid['date']=='2021-05-24') \n",
        "total_population=covid[fit_2]['population'].sum()\n",
        "print(total_population)"
      ],
      "execution_count": null,
      "outputs": [
        {
          "output_type": "stream",
          "text": [
            "23791803611.0\n"
          ],
          "name": "stdout"
        }
      ]
    },
    {
      "cell_type": "markdown",
      "metadata": {
        "id": "VDJ4D2QSyvh0"
      },
      "source": [
        "# **For Finding Total-vacinations**"
      ]
    },
    {
      "cell_type": "code",
      "metadata": {
        "colab": {
          "base_uri": "https://localhost:8080/"
        },
        "id": "syu__keZdPLE",
        "outputId": "5f60c4b7-3398-4dae-9c49-b7a02960a43a"
      },
      "source": [
        "total_vaccination = covid[fit_2]['total_vaccinations'].sum()\n",
        "print(total_vaccination)\n",
        "percentage_vaccinated = (100*total_vaccination)/(total_population)\n",
        "print(percentage_vaccinated)\n",
        "percentage_non_vaccinated=100-percentage_vaccinated\n",
        "print(percentage_non_vaccinated)"
      ],
      "execution_count": null,
      "outputs": [
        {
          "output_type": "stream",
          "text": [
            "5058509901.0\n",
            "21.261565468963553\n",
            "78.73843453103645\n"
          ],
          "name": "stdout"
        }
      ]
    },
    {
      "cell_type": "markdown",
      "metadata": {
        "id": "mhcDVZIjVox_"
      },
      "source": [
        "**PIE CHART COMPARISION OF VACCINATION**"
      ]
    },
    {
      "cell_type": "code",
      "metadata": {
        "id": "B11-uW_7evqg",
        "colab": {
          "base_uri": "https://localhost:8080/",
          "height": 273
        },
        "outputId": "422028e1-11cd-4d72-feff-da9140fe951c"
      },
      "source": [
        "pie_values = [percentage_non_vaccinated,percentage_vaccinated]\n",
        "pie_lables = [\"pending vaccination\",\"total vaccination done \"]\n",
        "plt.pie(pie_values,labels=pie_lables,autopct='%1.2f%%')\n",
        "plt.title(\"Analysis of Vaccinated data in world\",fontsize=24)\n",
        "plt.show()"
      ],
      "execution_count": null,
      "outputs": [
        {
          "output_type": "display_data",
          "data": {
            "image/png": "[encoded data removed]",
            "text/plain": [
              "<Figure size 432x288 with 1 Axes>"
            ]
          },
          "metadata": {
            "tags": []
          }
        }
      ]
    },
    {
      "cell_type": "markdown",
      "metadata": {
        "id": "eTKTqbWjqgqo"
      },
      "source": [
        "# **TASK:3**"
      ]
    },
    {
      "cell_type": "code",
      "metadata": {
        "id": "NyteaHaOfVrn"
      },
      "source": [
        "f1= (clean['date']=='2020-03-01')\n",
        "f2= (clean['date']=='2020-05-01')\n",
        "f3= (clean['date']=='2020-07-01')\n",
        "f4= (clean['date']=='2020-09-01')\n",
        "f5= (clean['date']=='2020-11-01')\n",
        "f6= (clean['date']=='2021-01-01')\n",
        "f7= (clean['date']=='2021-03-01')"
      ],
      "execution_count": null,
      "outputs": []
    },
    {
      "cell_type": "markdown",
      "metadata": {
        "id": "0OshGMDKql26"
      },
      "source": [
        "# **TOTAL CASES OF EVERY TWO MONTH**"
      ]
    },
    {
      "cell_type": "markdown",
      "metadata": {
        "id": "38VAQUVThaLZ"
      },
      "source": [
        "## **For March 2020**"
      ]
    },
    {
      "cell_type": "code",
      "metadata": {
        "id": "xMpaKgeAhTTt"
      },
      "source": [
        "\n",
        "f11= (clean[f1]['continent']=='Asia')\n",
        "f12=(clean[f1]['continent']=='Europe')\n",
        "f13=(clean[f1]['continent']=='Africa')\n",
        "f14=(clean[f1]['continent']=='North America')\n",
        "f15=(clean[f1]['continent']=='South America')\n",
        "f16=(clean[f1]['continent']=='Oceania')"
      ],
      "execution_count": null,
      "outputs": []
    },
    {
      "cell_type": "code",
      "metadata": {
        "colab": {
          "base_uri": "https://localhost:8080/"
        },
        "id": "y0ZQgSQNiNy7",
        "outputId": "99fb01a4-16ae-4ec5-a96f-801a81d494ec"
      },
      "source": [
        "sum1=clean[f1][f11]['total_cases'].sum()\n",
        "sum2=clean[f1][f12]['total_cases'].sum()\n",
        "sum3=clean[f1][f13]['total_cases'].sum()\n",
        "sum4=clean[f1][f14]['total_cases'].sum()\n",
        "sum5=clean[f1][f15]['total_cases'].sum()\n",
        "sum6=clean[f1][f16]['total_cases'].sum()\n",
        "total_sum1=[]\n",
        "total_sum1.append(sum1)\n",
        "total_sum1.append(sum2)\n",
        "total_sum1.append(sum3)\n",
        "total_sum1.append(sum4)\n",
        "total_sum1.append(sum5)\n",
        "total_sum1.append(sum6)\n",
        "print(total_sum1)"
      ],
      "execution_count": null,
      "outputs": [
        {
          "output_type": "stream",
          "text": [
            "[85317.0, 2261.0, 4.0, 62.0, 17.0, 28.0]\n"
          ],
          "name": "stdout"
        }
      ]
    },
    {
      "cell_type": "code",
      "metadata": {
        "colab": {
          "base_uri": "https://localhost:8080/"
        },
        "id": "KLq8rilaimLg",
        "outputId": "955add88-3928-4215-e906-4e515eddbff3"
      },
      "source": [
        "print(total_sum1)\n",
        "print(con)\n",
        "total_sum1=[int(i) for i in total_sum1]\n",
        "print(total_sum1)\n",
        "t_sum1=0\n",
        "for i in total_sum1:\n",
        "  t_sum1=i+t_sum1\n",
        "print(t_sum1)\n",
        "  "
      ],
      "execution_count": null,
      "outputs": [
        {
          "output_type": "stream",
          "text": [
            "[85317.0, 2261.0, 4.0, 62.0, 17.0, 28.0]\n",
            "['Asia' nan 'Europe' 'Africa' 'North America' 'South America' 'Oceania']\n",
            "[85317, 2261, 4, 62, 17, 28]\n",
            "87689\n"
          ],
          "name": "stdout"
        }
      ]
    },
    {
      "cell_type": "markdown",
      "metadata": {
        "id": "5QDqHDDEksY6"
      },
      "source": [
        "# **For May 2020**"
      ]
    },
    {
      "cell_type": "code",
      "metadata": {
        "id": "HXRYqgp5k2AO"
      },
      "source": [
        "f11= (clean[f2]['continent']=='Asia')\n",
        "f12=(clean[f2]['continent']=='Europe')\n",
        "f13=(clean[f2]['continent']=='Africa')\n",
        "f14=(clean[f2]['continent']=='North America')\n",
        "f15=(clean[f2]['continent']=='South America')\n",
        "f16=(clean[f2]['continent']=='Oceania')"
      ],
      "execution_count": null,
      "outputs": []
    },
    {
      "cell_type": "code",
      "metadata": {
        "colab": {
          "base_uri": "https://localhost:8080/"
        },
        "id": "ITdPT-OnlhjK",
        "outputId": "1292b152-a691-4604-8495-a0014b6f8132"
      },
      "source": [
        "sum1=clean[f2][f11]['total_cases'].sum()\n",
        "sum2=clean[f2][f12]['total_cases'].sum()\n",
        "sum3=clean[f2][f13]['total_cases'].sum()\n",
        "sum4=clean[f2][f14]['total_cases'].sum()\n",
        "sum5=clean[f2][f15]['total_cases'].sum()\n",
        "sum6=clean[f2][f16]['total_cases'].sum()\n",
        "total_sum2=[]\n",
        "total_sum2.append(sum1)\n",
        "total_sum2.append(sum2)\n",
        "total_sum2.append(sum3)\n",
        "total_sum2.append(sum4)\n",
        "total_sum2.append(sum5)\n",
        "total_sum2.append(sum6)\n",
        "print(total_sum2)"
      ],
      "execution_count": null,
      "outputs": [
        {
          "output_type": "stream",
          "text": [
            "[534121.0, 1380660.0, 40479.0, 1212097.0, 191859.0, 8289.0]\n"
          ],
          "name": "stdout"
        }
      ]
    },
    {
      "cell_type": "code",
      "metadata": {
        "colab": {
          "base_uri": "https://localhost:8080/"
        },
        "id": "ecfAfu_tmeoH",
        "outputId": "7b061800-ae08-43ec-97c9-410a17cb37d8"
      },
      "source": [
        "print(total_sum2)\n",
        "print(con)\n",
        "total_sum2=[int(i) for i in total_sum2]\n",
        "print(total_sum2)\n",
        "t_sum2=0\n",
        "for i in total_sum2:\n",
        "  t_sum2=i+t_sum2\n",
        "print(t_sum2)\n",
        "  "
      ],
      "execution_count": null,
      "outputs": [
        {
          "output_type": "stream",
          "text": [
            "[534121.0, 1380660.0, 40479.0, 1212097.0, 191859.0, 8289.0]\n",
            "['Asia' nan 'Europe' 'Africa' 'North America' 'South America' 'Oceania']\n",
            "[534121, 1380660, 40479, 1212097, 191859, 8289]\n",
            "3367505\n"
          ],
          "name": "stdout"
        }
      ]
    },
    {
      "cell_type": "markdown",
      "metadata": {
        "id": "XtER2hbfmrwP"
      },
      "source": [
        "# **For July 2020**"
      ]
    },
    {
      "cell_type": "code",
      "metadata": {
        "id": "DhpMs0ivmwhM"
      },
      "source": [
        "f11= (clean[f3]['continent']=='Asia')\n",
        "f12=(clean[f3]['continent']=='Europe')\n",
        "f13=(clean[f3]['continent']=='Africa')\n",
        "f14=(clean[f3]['continent']=='North America')\n",
        "f15=(clean[f3]['continent']=='South America')\n",
        "f16=(clean[f3]['continent']=='Oceania')"
      ],
      "execution_count": null,
      "outputs": []
    },
    {
      "cell_type": "code",
      "metadata": {
        "colab": {
          "base_uri": "https://localhost:8080/"
        },
        "id": "AvhszLfMm78v",
        "outputId": "1cf39831-b268-4de8-c17a-01bd8dd085f5"
      },
      "source": [
        "sum1=clean[f3][f11]['total_cases'].sum()\n",
        "sum2=clean[f3][f12]['total_cases'].sum()\n",
        "sum3=clean[f3][f13]['total_cases'].sum()\n",
        "sum4=clean[f3][f14]['total_cases'].sum()\n",
        "sum5=clean[f3][f15]['total_cases'].sum()\n",
        "sum6=clean[f3][f16]['total_cases'].sum()\n",
        "total_sum3=[]\n",
        "total_sum3.append(sum1)\n",
        "total_sum3.append(sum2)\n",
        "total_sum3.append(sum3)\n",
        "total_sum3.append(sum4)\n",
        "total_sum3.append(sum5)\n",
        "total_sum3.append(sum6)\n",
        "print(total_sum3)"
      ],
      "execution_count": null,
      "outputs": [
        {
          "output_type": "stream",
          "text": [
            "[2371987.0, 2422427.0, 418128.0, 3161702.0, 2291011.0, 9560.0]\n"
          ],
          "name": "stdout"
        }
      ]
    },
    {
      "cell_type": "code",
      "metadata": {
        "colab": {
          "base_uri": "https://localhost:8080/"
        },
        "id": "OIWq21vWnM7G",
        "outputId": "8b060b9c-9e95-4d81-8e31-147b4250046f"
      },
      "source": [
        "print(total_sum3)\n",
        "print(con)\n",
        "total_sum3=[int(i) for i in total_sum3]\n",
        "print(total_sum3)\n",
        "t_sum3=0\n",
        "for i in total_sum3:\n",
        "  t_sum3=i+t_sum3\n",
        "print(t_sum3)"
      ],
      "execution_count": null,
      "outputs": [
        {
          "output_type": "stream",
          "text": [
            "[2371987.0, 2422427.0, 418128.0, 3161702.0, 2291011.0, 9560.0]\n",
            "['Asia' nan 'Europe' 'Africa' 'North America' 'South America' 'Oceania']\n",
            "[2371987, 2422427, 418128, 3161702, 2291011, 9560]\n",
            "10674815\n"
          ],
          "name": "stdout"
        }
      ]
    },
    {
      "cell_type": "markdown",
      "metadata": {
        "id": "_qTofmvznv8K"
      },
      "source": [
        "# **For Sept 2020**"
      ]
    },
    {
      "cell_type": "code",
      "metadata": {
        "id": "X9FYA7oEn36y"
      },
      "source": [
        "f11= (clean[f4]['continent']=='Asia')\n",
        "f12=(clean[f4]['continent']=='Europe')\n",
        "f13=(clean[f4]['continent']=='Africa')\n",
        "f14=(clean[f4]['continent']=='North America')\n",
        "f15=(clean[f4]['continent']=='South America')\n",
        "f16=(clean[f4]['continent']=='Oceania')"
      ],
      "execution_count": null,
      "outputs": []
    },
    {
      "cell_type": "code",
      "metadata": {
        "colab": {
          "base_uri": "https://localhost:8080/"
        },
        "id": "gfmRple1oD4B",
        "outputId": "0495341d-4324-4b8c-c150-454bc507286b"
      },
      "source": [
        "sum1=clean[f4][f11]['total_cases'].sum()\n",
        "sum2=clean[f4][f12]['total_cases'].sum()\n",
        "sum3=clean[f4][f13]['total_cases'].sum()\n",
        "sum4=clean[f4][f14]['total_cases'].sum()\n",
        "sum5=clean[f4][f15]['total_cases'].sum()\n",
        "sum6=clean[f4][f16]['total_cases'].sum()\n",
        "total_sum4=[]\n",
        "total_sum4.append(sum1)\n",
        "total_sum4.append(sum2)\n",
        "total_sum4.append(sum3)\n",
        "total_sum4.append(sum4)\n",
        "total_sum4.append(sum5)\n",
        "total_sum4.append(sum6)\n",
        "print(total_sum4)"
      ],
      "execution_count": null,
      "outputs": [
        {
          "output_type": "stream",
          "text": [
            "[7217705.0, 3670535.0, 1259392.0, 7224371.0, 6373121.0, 28169.0]\n"
          ],
          "name": "stdout"
        }
      ]
    },
    {
      "cell_type": "code",
      "metadata": {
        "colab": {
          "base_uri": "https://localhost:8080/"
        },
        "id": "AsCGPABooOdG",
        "outputId": "0f638620-1016-468d-9f95-a5492f3e847d"
      },
      "source": [
        "print(total_sum4)\n",
        "print(con)\n",
        "total_sum4=[int(i) for i in total_sum4]\n",
        "print(total_sum4)\n",
        "t_sum4=0\n",
        "for i in total_sum4:\n",
        "  t_sum4=i+t_sum4\n",
        "print(t_sum4)"
      ],
      "execution_count": null,
      "outputs": [
        {
          "output_type": "stream",
          "text": [
            "[7217705.0, 3670535.0, 1259392.0, 7224371.0, 6373121.0, 28169.0]\n",
            "['Asia' nan 'Europe' 'Africa' 'North America' 'South America' 'Oceania']\n",
            "[7217705, 3670535, 1259392, 7224371, 6373121, 28169]\n",
            "25773293\n"
          ],
          "name": "stdout"
        }
      ]
    },
    {
      "cell_type": "markdown",
      "metadata": {
        "id": "Nm6y-jWzobej"
      },
      "source": [
        "# **For Nov 2020**"
      ]
    },
    {
      "cell_type": "code",
      "metadata": {
        "id": "ISughZmoojBA"
      },
      "source": [
        "f11= (clean[f5]['continent']=='Asia')\n",
        "f12=(clean[f5]['continent']=='Europe')\n",
        "f13=(clean[f5]['continent']=='Africa')\n",
        "f14=(clean[f5]['continent']=='North America')\n",
        "f15=(clean[f5]['continent']=='South America')\n",
        "f16=(clean[f5]['continent']=='Oceania')"
      ],
      "execution_count": null,
      "outputs": []
    },
    {
      "cell_type": "code",
      "metadata": {
        "colab": {
          "base_uri": "https://localhost:8080/"
        },
        "id": "koGJ-pmtowjF",
        "outputId": "3d7dd14a-f5c9-4e13-9c45-3e991cb0b6be"
      },
      "source": [
        "sum1=clean[f5][f11]['total_cases'].sum()\n",
        "sum2=clean[f5][f12]['total_cases'].sum()\n",
        "sum3=clean[f5][f13]['total_cases'].sum()\n",
        "sum4=clean[f5][f14]['total_cases'].sum()\n",
        "sum5=clean[f5][f15]['total_cases'].sum()\n",
        "sum6=clean[f5][f16]['total_cases'].sum()\n",
        "total_sum5=[]\n",
        "total_sum5.append(sum1)\n",
        "total_sum5.append(sum2)\n",
        "total_sum5.append(sum3)\n",
        "total_sum5.append(sum4)\n",
        "total_sum5.append(sum5)\n",
        "total_sum5.append(sum6)\n",
        "print(total_sum5)"
      ],
      "execution_count": null,
      "outputs": [
        {
          "output_type": "stream",
          "text": [
            "[13802128.0, 10180525.0, 1795770.0, 11098728.0, 9696576.0, 30197.0]\n"
          ],
          "name": "stdout"
        }
      ]
    },
    {
      "cell_type": "code",
      "metadata": {
        "colab": {
          "base_uri": "https://localhost:8080/"
        },
        "id": "7pyBkfLkpE3Q",
        "outputId": "31c2d712-d92e-4a70-cc3c-84897bfef5d6"
      },
      "source": [
        "print(total_sum5)\n",
        "print(con)\n",
        "total_sum5=[int(i) for i in total_sum5]\n",
        "print(total_sum5)\n",
        "t_sum5=0\n",
        "for i in total_sum5:\n",
        "  t_sum5=i+t_sum5\n",
        "print(t_sum5)"
      ],
      "execution_count": null,
      "outputs": [
        {
          "output_type": "stream",
          "text": [
            "[13802128.0, 10180525.0, 1795770.0, 11098728.0, 9696576.0, 30197.0]\n",
            "['Asia' nan 'Europe' 'Africa' 'North America' 'South America' 'Oceania']\n",
            "[13802128, 10180525, 1795770, 11098728, 9696576, 30197]\n",
            "46603924\n"
          ],
          "name": "stdout"
        }
      ]
    },
    {
      "cell_type": "markdown",
      "metadata": {
        "id": "EQg6WU1lqRzz"
      },
      "source": [
        "# **For Jan 2021**"
      ]
    },
    {
      "cell_type": "code",
      "metadata": {
        "id": "OURD41KyqX_n"
      },
      "source": [
        "f11= (clean[f6]['continent']=='Asia')\n",
        "f12=(clean[f6]['continent']=='Europe')\n",
        "f13=(clean[f6]['continent']=='Africa')\n",
        "f14=(clean[f6]['continent']=='North America')\n",
        "f15=(clean[f6]['continent']=='South America')\n",
        "f16=(clean[f6]['continent']=='Oceania')"
      ],
      "execution_count": null,
      "outputs": []
    },
    {
      "cell_type": "code",
      "metadata": {
        "colab": {
          "base_uri": "https://localhost:8080/"
        },
        "id": "FAaAO9Drq17W",
        "outputId": "5e0776d2-007a-48b9-bb69-c2f4481b490c"
      },
      "source": [
        "sum1=clean[f6][f11]['total_cases'].sum()\n",
        "sum2=clean[f6][f12]['total_cases'].sum()\n",
        "sum3=clean[f6][f13]['total_cases'].sum()\n",
        "sum4=clean[f6][f14]['total_cases'].sum()\n",
        "sum5=clean[f6][f15]['total_cases'].sum()\n",
        "sum6=clean[f6][f16]['total_cases'].sum()\n",
        "total_sum6=[]\n",
        "total_sum6.append(sum1)\n",
        "total_sum6.append(sum2)\n",
        "total_sum6.append(sum3)\n",
        "total_sum6.append(sum4)\n",
        "total_sum6.append(sum5)\n",
        "total_sum6.append(sum6)\n",
        "print(total_sum6)"
      ],
      "execution_count": null,
      "outputs": [
        {
          "output_type": "stream",
          "text": [
            "[20771126.0, 24016702.0, 2788167.0, 23242701.0, 13241727.0, 31475.0]\n"
          ],
          "name": "stdout"
        }
      ]
    },
    {
      "cell_type": "code",
      "metadata": {
        "colab": {
          "base_uri": "https://localhost:8080/"
        },
        "id": "7FVS-0XsrFR5",
        "outputId": "7f9e6622-6a3c-4485-b22f-fd6546675019"
      },
      "source": [
        "print(total_sum6)\n",
        "print(con)\n",
        "total_sum6=[int(i) for i in total_sum6]\n",
        "print(total_sum6)\n",
        "t_sum6=0\n",
        "for i in total_sum6:\n",
        "  t_sum6=i+t_sum6\n",
        "print(t_sum6)"
      ],
      "execution_count": null,
      "outputs": [
        {
          "output_type": "stream",
          "text": [
            "[20771126.0, 24016702.0, 2788167.0, 23242701.0, 13241727.0, 31475.0]\n",
            "['Asia' nan 'Europe' 'Africa' 'North America' 'South America' 'Oceania']\n",
            "[20771126, 24016702, 2788167, 23242701, 13241727, 31475]\n",
            "84091898\n"
          ],
          "name": "stdout"
        }
      ]
    },
    {
      "cell_type": "markdown",
      "metadata": {
        "id": "djM_HE5ormFf"
      },
      "source": [
        "# **For March 2021**"
      ]
    },
    {
      "cell_type": "code",
      "metadata": {
        "id": "l0faqYVUrqzi"
      },
      "source": [
        "f11= (clean[f7]['continent']=='Asia')\n",
        "f12=(clean[f7]['continent']=='Europe')\n",
        "f13=(clean[f7]['continent']=='Africa')\n",
        "f14=(clean[f7]['continent']=='North America')\n",
        "f15=(clean[f7]['continent']=='South America')\n",
        "f16=(clean[f7]['continent']=='Oceania')"
      ],
      "execution_count": null,
      "outputs": []
    },
    {
      "cell_type": "code",
      "metadata": {
        "colab": {
          "base_uri": "https://localhost:8080/"
        },
        "id": "ZsYocIgQr6xS",
        "outputId": "23e9a98d-f830-4670-a2cc-c952cfc74f7c"
      },
      "source": [
        "sum1=clean[f7][f11]['total_cases'].sum()\n",
        "sum2=clean[f7][f12]['total_cases'].sum()\n",
        "sum3=clean[f7][f13]['total_cases'].sum()\n",
        "sum4=clean[f7][f14]['total_cases'].sum()\n",
        "sum5=clean[f7][f15]['total_cases'].sum()\n",
        "sum6=clean[f7][f16]['total_cases'].sum()\n",
        "total_sum7=[]\n",
        "total_sum7.append(sum1)\n",
        "total_sum7.append(sum2)\n",
        "total_sum7.append(sum3)\n",
        "total_sum7.append(sum4)\n",
        "total_sum7.append(sum5)\n",
        "total_sum7.append(sum6)\n",
        "print(total_sum7)"
      ],
      "execution_count": null,
      "outputs": [
        {
          "output_type": "stream",
          "text": [
            "[25091191.0, 34433651.0, 3906140.0, 32994984.0, 18026103.0, 32819.0]\n"
          ],
          "name": "stdout"
        }
      ]
    },
    {
      "cell_type": "code",
      "metadata": {
        "colab": {
          "base_uri": "https://localhost:8080/"
        },
        "id": "W_SG1_BCsIES",
        "outputId": "5610e262-9cf7-4ce2-ba1a-0a353f902a23"
      },
      "source": [
        "print(total_sum7)\n",
        "print(con)\n",
        "total_sum7=[int(i) for i in total_sum7]\n",
        "print(total_sum7)\n",
        "t_sum7=0\n",
        "for i in total_sum7:\n",
        "  t_sum7=i+t_sum7\n",
        "print(t_sum7)"
      ],
      "execution_count": null,
      "outputs": [
        {
          "output_type": "stream",
          "text": [
            "[25091191.0, 34433651.0, 3906140.0, 32994984.0, 18026103.0, 32819.0]\n",
            "['Asia' nan 'Europe' 'Africa' 'North America' 'South America' 'Oceania']\n",
            "[25091191, 34433651, 3906140, 32994984, 18026103, 32819]\n",
            "114484888\n"
          ],
          "name": "stdout"
        }
      ]
    },
    {
      "cell_type": "markdown",
      "metadata": {
        "id": "Ht4iOHeHsXUl"
      },
      "source": [
        "# **For May 2021**"
      ]
    },
    {
      "cell_type": "code",
      "metadata": {
        "colab": {
          "base_uri": "https://localhost:8080/"
        },
        "id": "E5N3g_3Ksbbz",
        "outputId": "9f84e22f-1613-4018-c992-7146216efe21"
      },
      "source": [
        "total_sum8=total_sum\n",
        "print(total_sum8)\n",
        "print(con)\n",
        "total_sum8=[int(i) for i in total_sum8]\n",
        "print(total_sum8)\n",
        "t_sum8=0\n",
        "for i in total_sum8:\n",
        "  t_sum8=i+t_sum8\n",
        "print(t_sum8)"
      ],
      "execution_count": null,
      "outputs": [
        {
          "output_type": "stream",
          "text": [
            "[49482041, 46514566, 4765208, 38686114, 27819555, 48155]\n",
            "['Asia' nan 'Europe' 'Africa' 'North America' 'South America' 'Oceania']\n",
            "[49482041, 46514566, 4765208, 38686114, 27819555, 48155]\n",
            "167315639\n"
          ],
          "name": "stdout"
        }
      ]
    },
    {
      "cell_type": "markdown",
      "metadata": {
        "id": "OiFzExKQtCbP"
      },
      "source": [
        "**LINE GRAPH FOR MONTH WISE VARIATION OF TOTAL CASES**"
      ]
    },
    {
      "cell_type": "code",
      "metadata": {
        "colab": {
          "base_uri": "https://localhost:8080/",
          "height": 349
        },
        "id": "thY3rmADtIU3",
        "outputId": "a58d570d-439b-4275-ee9d-2d68efb4451c"
      },
      "source": [
        "x_axis = [\"March\\n2020\",\"May\\n2020\",\"July\\n2020\",\"Sept\\n2020\",\"Nov\\n2020\",\"Jan\\n2021\",\"March\\n2021\",\"May\\n2021\"]\n",
        "y_axis = [t_sum1,t_sum2,t_sum3,t_sum4,t_sum5,t_sum6,t_sum7,t_sum8]\n",
        "\n",
        "plt.xlabel(\"Months\",fontsize=15)\n",
        "plt.ylabel(\"Total_cases\",fontsize=15)\n",
        "\n",
        "plt.title(\"Pattern of Covid-19 Cases till Nowday\\n\",fontsize=24)\n",
        "\n",
        "plt.plot(x_axis,y_axis,color=\"green\",marker='o',markerfacecolor='blue',markersize=10)\n",
        "\n",
        "plt.show()"
      ],
      "execution_count": null,
      "outputs": [
        {
          "output_type": "display_data",
          "data": {
            "image/png": "[encoded data removed]",
            "text/plain": [
              "<Figure size 432x288 with 1 Axes>"
            ]
          },
          "metadata": {
            "tags": [],
            "needs_background": "light"
          }
        }
      ]
    }
  ]
}